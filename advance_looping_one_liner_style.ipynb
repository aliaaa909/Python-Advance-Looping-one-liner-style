{
  "nbformat": 4,
  "nbformat_minor": 0,
  "metadata": {
    "colab": {
      "provenance": []
    },
    "kernelspec": {
      "name": "python3",
      "display_name": "Python 3"
    },
    "language_info": {
      "name": "python"
    }
  },
  "cells": [
    {
      "cell_type": "code",
      "execution_count": null,
      "metadata": {
        "colab": {
          "base_uri": "https://localhost:8080/"
        },
        "id": "JUSqzqVZ_1e5",
        "outputId": "2eb7c36c-eb93-4540-d9b7-bd0d6dae2f3b"
      },
      "outputs": [
        {
          "output_type": "stream",
          "name": "stdout",
          "text": [
            "2\n",
            "7\n",
            "12\n",
            "17\n"
          ]
        }
      ],
      "source": [
        "for item in range(2,21,5):\n",
        "  print(item)"
      ]
    },
    {
      "cell_type": "code",
      "source": [
        "angka = list(range(1,11))\n",
        "print(angka)"
      ],
      "metadata": {
        "colab": {
          "base_uri": "https://localhost:8080/"
        },
        "id": "z_qg_Jd9A234",
        "outputId": "3a12564f-d852-4339-f326-b8241ffa387a"
      },
      "execution_count": null,
      "outputs": [
        {
          "output_type": "stream",
          "name": "stdout",
          "text": [
            "[1, 2, 3, 4, 5, 6, 7, 8, 9, 10]\n"
          ]
        }
      ]
    },
    {
      "cell_type": "code",
      "source": [],
      "metadata": {
        "id": "de5yz-4lBGP8"
      },
      "execution_count": null,
      "outputs": []
    },
    {
      "cell_type": "markdown",
      "source": [
        "**Enumerate**"
      ],
      "metadata": {
        "id": "ZCMLXoYNBIe7"
      }
    },
    {
      "cell_type": "code",
      "source": [
        "indeks = 0\n",
        "for item in 'abcdefghij':\n",
        "  print('karakter {} ada di indeks ke- {}'.format(item,indeks))\n",
        "  indeks += 1"
      ],
      "metadata": {
        "colab": {
          "base_uri": "https://localhost:8080/"
        },
        "id": "8DS0h5eABLEi",
        "outputId": "3d317a5a-5aa9-4b0f-bf23-019fc02ef313"
      },
      "execution_count": null,
      "outputs": [
        {
          "output_type": "stream",
          "name": "stdout",
          "text": [
            "karakter a ada di indeks ke- 0\n",
            "karakter b ada di indeks ke- 1\n",
            "karakter c ada di indeks ke- 2\n",
            "karakter d ada di indeks ke- 3\n",
            "karakter e ada di indeks ke- 4\n",
            "karakter f ada di indeks ke- 5\n",
            "karakter g ada di indeks ke- 6\n",
            "karakter h ada di indeks ke- 7\n",
            "karakter i ada di indeks ke- 8\n",
            "karakter j ada di indeks ke- 9\n"
          ]
        }
      ]
    },
    {
      "cell_type": "code",
      "source": [
        "kata = 'abcdefghij'\n",
        "for item in enumerate(kata):\n",
        "  print(item)"
      ],
      "metadata": {
        "colab": {
          "base_uri": "https://localhost:8080/"
        },
        "id": "kC39KHFTBrX_",
        "outputId": "9ad1a8b2-54af-4880-cb81-1dd0195eccbe"
      },
      "execution_count": null,
      "outputs": [
        {
          "output_type": "stream",
          "name": "stdout",
          "text": [
            "(0, 'a')\n",
            "(1, 'b')\n",
            "(2, 'c')\n",
            "(3, 'd')\n",
            "(4, 'e')\n",
            "(5, 'f')\n",
            "(6, 'g')\n",
            "(7, 'h')\n",
            "(8, 'i')\n",
            "(9, 'j')\n"
          ]
        }
      ]
    },
    {
      "cell_type": "code",
      "source": [
        "for a,b in enumerate(kata):\n",
        "  print(a)\n",
        "  print(b)"
      ],
      "metadata": {
        "colab": {
          "base_uri": "https://localhost:8080/"
        },
        "id": "-neGbZdJCVi9",
        "outputId": "c61820d5-e365-4726-f937-e43481678875"
      },
      "execution_count": null,
      "outputs": [
        {
          "output_type": "stream",
          "name": "stdout",
          "text": [
            "0\n",
            "a\n",
            "1\n",
            "b\n",
            "2\n",
            "c\n",
            "3\n",
            "d\n",
            "4\n",
            "e\n",
            "5\n",
            "f\n",
            "6\n",
            "g\n",
            "7\n",
            "h\n",
            "8\n",
            "i\n",
            "9\n",
            "j\n"
          ]
        }
      ]
    },
    {
      "cell_type": "markdown",
      "source": [
        "**Zipp --> outputnya adl tuple**"
      ],
      "metadata": {
        "id": "J-1DR8cQD_CD"
      }
    },
    {
      "cell_type": "code",
      "source": [
        "list1 = [1,2,3,4,5,6]\n",
        "list2 = ['a','b','c','d','e','f']\n",
        "\n",
        "for item in zip(list1, list2):\n",
        "  print(item)"
      ],
      "metadata": {
        "colab": {
          "base_uri": "https://localhost:8080/"
        },
        "id": "8HD1_ngEEArO",
        "outputId": "6f798553-8688-4238-91be-ad87f6d77d75"
      },
      "execution_count": null,
      "outputs": [
        {
          "output_type": "stream",
          "name": "stdout",
          "text": [
            "(1, 'a')\n",
            "(2, 'b')\n",
            "(3, 'c')\n",
            "(4, 'd')\n",
            "(5, 'e')\n",
            "(6, 'f')\n"
          ]
        }
      ]
    },
    {
      "cell_type": "code",
      "source": [
        "list(zip(list1,list2))"
      ],
      "metadata": {
        "colab": {
          "base_uri": "https://localhost:8080/"
        },
        "id": "Iz0HFA-KEdV6",
        "outputId": "7c9e2a54-10de-4bf2-dd19-589b57603e27"
      },
      "execution_count": null,
      "outputs": [
        {
          "output_type": "execute_result",
          "data": {
            "text/plain": [
              "[(1, 'a'), (2, 'b'), (3, 'c'), (4, 'd'), (5, 'e'), (6, 'f')]"
            ]
          },
          "metadata": {},
          "execution_count": 16
        }
      ]
    },
    {
      "cell_type": "markdown",
      "source": [
        "**Item checking**"
      ],
      "metadata": {
        "id": "EKtmsbkeFCcs"
      }
    },
    {
      "cell_type": "code",
      "source": [
        "'aku belajar'\n",
        "'v' in 'aku belajar'"
      ],
      "metadata": {
        "colab": {
          "base_uri": "https://localhost:8080/"
        },
        "id": "gDlHIhbUFEm1",
        "outputId": "a38c62c2-eb47-425c-d0bb-0eaad89900ac"
      },
      "execution_count": null,
      "outputs": [
        {
          "output_type": "execute_result",
          "data": {
            "text/plain": [
              "False"
            ]
          },
          "metadata": {},
          "execution_count": 17
        }
      ]
    },
    {
      "cell_type": "code",
      "source": [
        "#item checking pada dictionary\n",
        "\n",
        "kotak1 = {'a' : 100, 'b': 200, 'c' : 300}\n",
        "'a' in kotak1"
      ],
      "metadata": {
        "colab": {
          "base_uri": "https://localhost:8080/"
        },
        "id": "Ib-QXCrDFOJI",
        "outputId": "4ee7f29c-66ea-4ba3-d2d5-0048603ed47d"
      },
      "execution_count": null,
      "outputs": [
        {
          "output_type": "execute_result",
          "data": {
            "text/plain": [
              "True"
            ]
          },
          "metadata": {},
          "execution_count": 20
        }
      ]
    },
    {
      "cell_type": "code",
      "source": [
        "200 in kotak1.values()"
      ],
      "metadata": {
        "colab": {
          "base_uri": "https://localhost:8080/"
        },
        "id": "3iohsOVnFlAH",
        "outputId": "65c8decf-a4b7-4ef1-afc9-541c01d5b906"
      },
      "execution_count": null,
      "outputs": [
        {
          "output_type": "execute_result",
          "data": {
            "text/plain": [
              "True"
            ]
          },
          "metadata": {},
          "execution_count": 21
        }
      ]
    },
    {
      "cell_type": "markdown",
      "source": [
        "**Advance For Loops**"
      ],
      "metadata": {
        "id": "TUctaY6DF0zM"
      }
    },
    {
      "cell_type": "code",
      "source": [
        "isi = list(range(1,11))\n",
        "isi"
      ],
      "metadata": {
        "colab": {
          "base_uri": "https://localhost:8080/"
        },
        "id": "DJSNeIYxF3wS",
        "outputId": "89d8544b-2253-4fda-c3a2-cd15725382e5"
      },
      "execution_count": null,
      "outputs": [
        {
          "output_type": "execute_result",
          "data": {
            "text/plain": [
              "[1, 2, 3, 4, 5, 6, 7, 8, 9, 10]"
            ]
          },
          "metadata": {},
          "execution_count": 22
        }
      ]
    },
    {
      "cell_type": "code",
      "source": [
        "isi2 = list()\n",
        "for item in range(1,11):\n",
        "  isi2.append(item)\n",
        "isi2"
      ],
      "metadata": {
        "colab": {
          "base_uri": "https://localhost:8080/"
        },
        "id": "ytCWWWfvF-mD",
        "outputId": "43ba3189-9bf9-4b23-9eea-63a6a1caa1d5"
      },
      "execution_count": null,
      "outputs": [
        {
          "output_type": "execute_result",
          "data": {
            "text/plain": [
              "[1, 2, 3, 4, 5, 6, 7, 8, 9, 10]"
            ]
          },
          "metadata": {},
          "execution_count": 25
        }
      ]
    },
    {
      "cell_type": "code",
      "source": [
        "isi3 = [item for item in range(1,11)]\n",
        "isi3"
      ],
      "metadata": {
        "colab": {
          "base_uri": "https://localhost:8080/"
        },
        "id": "-4srj8YOGKMH",
        "outputId": "d533b1d2-e765-46c2-cf43-ae2c2fcdf988"
      },
      "execution_count": null,
      "outputs": [
        {
          "output_type": "execute_result",
          "data": {
            "text/plain": [
              "[1, 2, 3, 4, 5, 6, 7, 8, 9, 10]"
            ]
          },
          "metadata": {},
          "execution_count": 26
        }
      ]
    },
    {
      "cell_type": "code",
      "source": [
        "isi4 = [item**2 for item in range(1,12)]\n",
        "isi4"
      ],
      "metadata": {
        "colab": {
          "base_uri": "https://localhost:8080/"
        },
        "id": "d55-QW-hGRmW",
        "outputId": "c1b7604e-febd-420e-ab9f-2e72ac834879"
      },
      "execution_count": null,
      "outputs": [
        {
          "output_type": "execute_result",
          "data": {
            "text/plain": [
              "[1, 4, 9, 16, 25, 36, 49, 64, 81, 100, 121]"
            ]
          },
          "metadata": {},
          "execution_count": 27
        }
      ]
    },
    {
      "cell_type": "code",
      "source": [
        "isi4 = [(item**2+4) for item in range(1,11)]\n",
        "isi4"
      ],
      "metadata": {
        "colab": {
          "base_uri": "https://localhost:8080/"
        },
        "id": "QLM4arB9G-CU",
        "outputId": "2318f9fd-610e-44cd-fe41-8b4c46e4f945"
      },
      "execution_count": null,
      "outputs": [
        {
          "output_type": "execute_result",
          "data": {
            "text/plain": [
              "[5, 8, 13, 20, 29, 40, 53, 68, 85, 104]"
            ]
          },
          "metadata": {},
          "execution_count": 28
        }
      ]
    },
    {
      "cell_type": "code",
      "source": [
        "isi5 = [item for item in range(1,11) if item%2==0]\n",
        "isi5"
      ],
      "metadata": {
        "colab": {
          "base_uri": "https://localhost:8080/"
        },
        "id": "SY0dn0lHLH4t",
        "outputId": "8395c929-4c69-40a8-daed-063d7309402e"
      },
      "execution_count": null,
      "outputs": [
        {
          "output_type": "execute_result",
          "data": {
            "text/plain": [
              "[2, 4, 6, 8, 10]"
            ]
          },
          "metadata": {},
          "execution_count": 30
        }
      ]
    },
    {
      "cell_type": "code",
      "source": [
        "isi6 = [(baru**2) for baru in range(1,40) if baru%2==0]\n",
        "isi6"
      ],
      "metadata": {
        "colab": {
          "base_uri": "https://localhost:8080/"
        },
        "id": "IJS5EkZjLeiq",
        "outputId": "019f14ff-dbcb-43ed-96e4-52a26cddc17c"
      },
      "execution_count": null,
      "outputs": [
        {
          "output_type": "execute_result",
          "data": {
            "text/plain": [
              "[4,\n",
              " 16,\n",
              " 36,\n",
              " 64,\n",
              " 100,\n",
              " 144,\n",
              " 196,\n",
              " 256,\n",
              " 324,\n",
              " 400,\n",
              " 484,\n",
              " 576,\n",
              " 676,\n",
              " 784,\n",
              " 900,\n",
              " 1024,\n",
              " 1156,\n",
              " 1296,\n",
              " 1444]"
            ]
          },
          "metadata": {},
          "execution_count": 32
        }
      ]
    },
    {
      "cell_type": "code",
      "source": [
        "isi7 = [item if item%2==0 else 'tetot' for item in range(1,11)]\n",
        "isi7"
      ],
      "metadata": {
        "colab": {
          "base_uri": "https://localhost:8080/"
        },
        "id": "zvPMnxruLsQc",
        "outputId": "ef3e1701-646c-4709-e020-5ff8366ef44c"
      },
      "execution_count": null,
      "outputs": [
        {
          "output_type": "execute_result",
          "data": {
            "text/plain": [
              "['tetot', 2, 'tetot', 4, 'tetot', 6, 'tetot', 8, 'tetot', 10]"
            ]
          },
          "metadata": {},
          "execution_count": 36
        }
      ]
    },
    {
      "cell_type": "code",
      "source": [
        "isi8 = []\n",
        "for item in range(1,11):\n",
        "    if item%2==0:\n",
        "       isi8.append(item)\n",
        "    else:\n",
        "      isi8.append('tetot')\n",
        "isi8\n"
      ],
      "metadata": {
        "colab": {
          "base_uri": "https://localhost:8080/"
        },
        "id": "Xmk76skvMWcx",
        "outputId": "032bebc1-c378-4d2b-bcf1-b01da4df93e5"
      },
      "execution_count": null,
      "outputs": [
        {
          "output_type": "execute_result",
          "data": {
            "text/plain": [
              "['tetot', 2, 'tetot', 4, 'tetot', 6, 'tetot', 8, 'tetot', 10]"
            ]
          },
          "metadata": {},
          "execution_count": 44
        }
      ]
    },
    {
      "cell_type": "code",
      "source": [
        "def cek(var):\n",
        "  if 'Python' in var:\n",
        "    return True\n",
        "  else:\n",
        "    return False\n",
        "\n",
        "var = input('input kalimat')\n",
        "cek(var)"
      ],
      "metadata": {
        "colab": {
          "base_uri": "https://localhost:8080/"
        },
        "id": "PUzs7L6igZSH",
        "outputId": "cda657a2-d4e5-4051-9a1a-4b9d5a56eb6f"
      },
      "execution_count": null,
      "outputs": [
        {
          "name": "stdout",
          "output_type": "stream",
          "text": [
            "input kalimatbelajar r\n"
          ]
        },
        {
          "output_type": "execute_result",
          "data": {
            "text/plain": [
              "False"
            ]
          },
          "metadata": {},
          "execution_count": 4
        }
      ]
    },
    {
      "cell_type": "code",
      "source": [
        "cek('belajar r')"
      ],
      "metadata": {
        "colab": {
          "base_uri": "https://localhost:8080/"
        },
        "id": "Xy1C5R-khfqo",
        "outputId": "c97219f3-733e-4fb1-d414-997dd1c75d49"
      },
      "execution_count": null,
      "outputs": [
        {
          "output_type": "execute_result",
          "data": {
            "text/plain": [
              "False"
            ]
          },
          "metadata": {},
          "execution_count": 5
        }
      ]
    },
    {
      "cell_type": "code",
      "source": [
        "def cek(var):\n",
        "  return 'python' in var"
      ],
      "metadata": {
        "id": "0d_CtgMAhxQr"
      },
      "execution_count": null,
      "outputs": []
    },
    {
      "cell_type": "code",
      "source": [
        "cek('belajar r')"
      ],
      "metadata": {
        "id": "ZsFiGl1MMRpN",
        "colab": {
          "base_uri": "https://localhost:8080/"
        },
        "outputId": "06b0c8c0-9a7d-4f4d-f456-e1f4d8fcf244"
      },
      "execution_count": null,
      "outputs": [
        {
          "output_type": "execute_result",
          "data": {
            "text/plain": [
              "False"
            ]
          },
          "metadata": {},
          "execution_count": 8
        }
      ]
    }
  ]
}